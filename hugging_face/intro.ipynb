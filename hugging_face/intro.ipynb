{
 "cells": [
  {
   "cell_type": "code",
   "execution_count": 1,
   "id": "da2db740-1685-40ac-bdc7-d983a59e4b42",
   "metadata": {},
   "outputs": [],
   "source": [
    "from transformers import pipeline"
   ]
  },
  {
   "cell_type": "code",
   "execution_count": 2,
   "id": "e1edc9cb-8eed-422d-91f1-cc7b829364ec",
   "metadata": {},
   "outputs": [
    {
     "name": "stderr",
     "output_type": "stream",
     "text": [
      "No model was supplied, defaulted to distilbert-base-uncased-finetuned-sst-2-english (https://huggingface.co/distilbert-base-uncased-finetuned-sst-2-english)\n"
     ]
    },
    {
     "data": {
      "application/vnd.jupyter.widget-view+json": {
       "model_id": "8fb42d801ea84c9485f66eb8270734e8",
       "version_major": 2,
       "version_minor": 0
      },
      "text/plain": [
       "Downloading:   0%|          | 0.00/629 [00:00<?, ?B/s]"
      ]
     },
     "metadata": {},
     "output_type": "display_data"
    },
    {
     "data": {
      "application/vnd.jupyter.widget-view+json": {
       "model_id": "8515d03cdd6e478fa9ac1dab8317adfe",
       "version_major": 2,
       "version_minor": 0
      },
      "text/plain": [
       "Downloading:   0%|          | 0.00/255M [00:00<?, ?B/s]"
      ]
     },
     "metadata": {},
     "output_type": "display_data"
    },
    {
     "data": {
      "application/vnd.jupyter.widget-view+json": {
       "model_id": "cf47bdc58a554963ba3e9efce6ba2153",
       "version_major": 2,
       "version_minor": 0
      },
      "text/plain": [
       "Downloading:   0%|          | 0.00/48.0 [00:00<?, ?B/s]"
      ]
     },
     "metadata": {},
     "output_type": "display_data"
    },
    {
     "data": {
      "application/vnd.jupyter.widget-view+json": {
       "model_id": "04886c9b159a4ae0926a0bdab170b356",
       "version_major": 2,
       "version_minor": 0
      },
      "text/plain": [
       "Downloading:   0%|          | 0.00/226k [00:00<?, ?B/s]"
      ]
     },
     "metadata": {},
     "output_type": "display_data"
    },
    {
     "data": {
      "text/plain": [
       "[{'label': 'POSITIVE', 'score': 0.9970535039901733},\n",
       " {'label': 'NEGATIVE', 'score': 0.9978033900260925}]"
      ]
     },
     "execution_count": 2,
     "metadata": {},
     "output_type": "execute_result"
    }
   ],
   "source": [
    "classifier = pipeline('sentiment-analysis')\n",
    "classifier(['I want this to never end', 'Who suggested this?'])"
   ]
  },
  {
   "cell_type": "code",
   "execution_count": 4,
   "id": "17c0f8c8-eec9-4e20-b561-43defa4eb285",
   "metadata": {},
   "outputs": [
    {
     "data": {
      "text/plain": [
       "[{'label': 'POSITIVE', 'score': 0.9969291090965271}]"
      ]
     },
     "execution_count": 4,
     "metadata": {},
     "output_type": "execute_result"
    }
   ],
   "source": [
    "classifier(['This review has been a long time coming - I have spent hours and hours on this game but you would never know it because of how crazy fast the time goes by. Whether that is a good thing is up to you. You can make the decision if this time was well spent. But for me it was worth it.'])"
   ]
  },
  {
   "cell_type": "code",
   "execution_count": 8,
   "id": "901ec361-2f31-49e4-a84f-770d3ef923b4",
   "metadata": {},
   "outputs": [],
   "source": [
    "from transformers import AutoTokenizer\n",
    "\n",
    "checkpoint = 'distilbert-base-uncased-finetuned-sst-2-english'\n",
    "tokenizer = AutoTokenizer.from_pretrained(checkpoint)\n",
    "\n",
    "raw_inputs = [\"I've been waiting for a HuggingFace course my whole life.\",\n",
    "                \"I hate this so much!\"]\n",
    "inputs = tokenizer(raw_inputs, padding=True, truncation=True, return_tensors='pt')\n",
    "\n",
    "inputs"
   ]
  },
  {
   "cell_type": "code",
   "execution_count": 10,
   "id": "c8befa79-595f-44a0-96c7-b7cf9977e001",
   "metadata": {},
   "outputs": [],
   "source": [
    "from transformers import AutoModel\n",
    "model = AutoModel.from_pretrained(checkpoint)\n",
    "\n",
    "inputs['input_ids'].shape\n",
    "\n",
    "outputs = model(**inputs)\n",
    "print(outputs.last_hidden_state.shape)"
   ]
  },
  {
   "cell_type": "code",
   "execution_count": 23,
   "id": "1eb02e4a-2506-4440-8335-b6d95a610c80",
   "metadata": {},
   "outputs": [],
   "source": [
    "from transformers import AutoModelForSequenceClassification\n",
    "from torch.nn.functional import softmax\n",
    "model = AutoModelForSequenceClassification.from_pretrained(checkpoint)\n",
    "outputs = model(**inputs)\n",
    "\n",
    "print(softmax(outputs.logits))"
   ]
  },
  {
   "cell_type": "code",
   "execution_count": 30,
   "id": "498fdaff-b790-4f3d-9d1e-54c159b11f91",
   "metadata": {},
   "outputs": [],
   "source": [
    "from transformers import BertConfig, BertModel\n",
    "\n",
    "config = BertConfig()\n",
    "model = BertModel(config)\n",
    "\n",
    "model = BertModel.from_pretrained('bert-base-cased')\n",
    "\n",
    "import torch\n",
    "\n",
    "sequences = ['Hello!', 'Cool.', 'Nice!']\n",
    "encoded_sequences = tokenizer(sequences)['input_ids']\n",
    "\n",
    "model_inputs = torch.tensor(encoded_sequences)\n",
    "\n",
    "outputs = model(model_inputs)\n",
    "\n",
    "outputs.last_hidden_state.shape\n",
    "\n",
    "tokenizer(['[UNK]'])"
   ]
  },
  {
   "cell_type": "code",
   "execution_count": 45,
   "id": "53818750-a5b7-4598-b6a7-56870000b8a8",
   "metadata": {},
   "outputs": [],
   "source": [
    "from transformers import BertTokenizer\n",
    "\n",
    "tokenizer = BertTokenizer.from_pretrained('bert-base-cased')\n",
    "\n",
    "tokens = tokenizer.tokenize('Using a Transformer network is simple smeasdhl a b c d e f ')\n",
    "tokens2 = tokenizer('Using a Transformer network is simple smeasdhl a b c d e f ')\n",
    "\n",
    "\n",
    "\n",
    "tokenizer.decode(tokens2['input_ids'])"
   ]
  },
  {
   "cell_type": "code",
   "execution_count": null,
   "id": "a9be9fe2-87e6-41a1-b42c-444bd9ac612d",
   "metadata": {},
   "outputs": [],
   "source": []
  }
 ],
 "metadata": {
  "kernelspec": {
   "display_name": "Python 3 (ipykernel)",
   "language": "python",
   "name": "python3"
  },
  "language_info": {
   "codemirror_mode": {
    "name": "ipython",
    "version": 3
   },
   "file_extension": ".py",
   "mimetype": "text/x-python",
   "name": "python",
   "nbconvert_exporter": "python",
   "pygments_lexer": "ipython3",
   "version": "3.7.10"
  }
 },
 "nbformat": 4,
 "nbformat_minor": 5
}
