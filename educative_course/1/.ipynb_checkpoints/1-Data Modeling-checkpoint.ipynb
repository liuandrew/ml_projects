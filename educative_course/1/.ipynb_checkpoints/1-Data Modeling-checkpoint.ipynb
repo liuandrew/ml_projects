{
 "cells": [
  {
   "cell_type": "code",
   "execution_count": 1,
   "id": "99c787d4-e1e9-4dd6-bba9-56a64aac7659",
   "metadata": {},
   "outputs": [],
   "source": [
    "import numpy as np\n",
    "a = np.array([0,1])"
   ]
  },
  {
   "cell_type": "code",
   "execution_count": 2,
   "id": "e58325b3-af95-4c77-a2e9-2d7b3cadfa02",
   "metadata": {},
   "outputs": [
    {
     "data": {
      "text/plain": [
       "'array([0, 1])'"
      ]
     },
     "execution_count": 2,
     "metadata": {},
     "output_type": "execute_result"
    }
   ],
   "source": [
    "repr(a)"
   ]
  },
  {
   "cell_type": "code",
   "execution_count": 4,
   "id": "7a028a86-e596-4b2b-8835-4495c59777a4",
   "metadata": {},
   "outputs": [],
   "source": [
    "arr = np.array([np.nan, 2, 3, 4, 5])\n",
    "arr2 = arr.copy()\n",
    "arr2[0] = 10"
   ]
  },
  {
   "cell_type": "code",
   "execution_count": 13,
   "id": "0fdb7ebc-fc1b-412f-a634-c609305cf844",
   "metadata": {},
   "outputs": [
    {
     "name": "stdout",
     "output_type": "stream",
     "text": [
      "[[[ 0  1]\n",
      "  [ 2  3]\n",
      "  [ 4  5]\n",
      "  [ 6  7]]\n",
      "\n",
      " [[ 8  9]\n",
      "  [10 11]\n",
      "  [12 13]\n",
      "  [14 15]]\n",
      "\n",
      " [[16 17]\n",
      "  [18 19]\n",
      "  [20 21]\n",
      "  [22 23]]]\n"
     ]
    },
    {
     "data": {
      "text/plain": [
       "array([ 0,  1,  2,  3,  4,  5,  6,  7,  8,  9, 10, 11, 12, 13, 14, 15, 16,\n",
       "       17, 18, 19, 20, 21, 22, 23])"
      ]
     },
     "execution_count": 13,
     "metadata": {},
     "output_type": "execute_result"
    }
   ],
   "source": [
    "arr = np.arange(24)\n",
    "\n",
    "arr = np.reshape(arr, (3, 4, 2))\n",
    "print(arr)\n",
    "arr.flatten()"
   ]
  },
  {
   "cell_type": "code",
   "execution_count": 21,
   "id": "072e80cd-dbbd-4b72-bc06-256fef493a97",
   "metadata": {},
   "outputs": [],
   "source": [
    "matrix = np.arange(9) + 1\n",
    "matrix = matrix.reshape((3,3))"
   ]
  },
  {
   "cell_type": "code",
   "execution_count": 23,
   "id": "be19a268-53a7-4cd0-8f9e-999addb61e40",
   "metadata": {},
   "outputs": [],
   "source": [
    "np.random.shuffle(matrix)"
   ]
  },
  {
   "cell_type": "code",
   "execution_count": 24,
   "id": "ac9b089b-a682-4254-a084-8dc29e45c848",
   "metadata": {},
   "outputs": [
    {
     "data": {
      "text/plain": [
       "array([[7, 8, 9],\n",
       "       [1, 2, 3],\n",
       "       [4, 5, 6]])"
      ]
     },
     "execution_count": 24,
     "metadata": {},
     "output_type": "execute_result"
    }
   ],
   "source": [
    "matrix"
   ]
  }
 ],
 "metadata": {
  "kernelspec": {
   "display_name": "Python 3 (ipykernel)",
   "language": "python",
   "name": "python3"
  },
  "language_info": {
   "codemirror_mode": {
    "name": "ipython",
    "version": 3
   },
   "file_extension": ".py",
   "mimetype": "text/x-python",
   "name": "python",
   "nbconvert_exporter": "python",
   "pygments_lexer": "ipython3",
   "version": "3.7.10"
  }
 },
 "nbformat": 4,
 "nbformat_minor": 5
}
