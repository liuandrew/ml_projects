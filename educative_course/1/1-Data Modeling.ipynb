{
 "cells": [
  {
   "cell_type": "code",
   "execution_count": 1,
   "id": "99c787d4-e1e9-4dd6-bba9-56a64aac7659",
   "metadata": {},
   "outputs": [],
   "source": [
    "import numpy as np\n",
    "a = np.array([0,1])"
   ]
  },
  {
   "cell_type": "code",
   "execution_count": 2,
   "id": "e58325b3-af95-4c77-a2e9-2d7b3cadfa02",
   "metadata": {},
   "outputs": [
    {
     "data": {
      "text/plain": [
       "'array([0, 1])'"
      ]
     },
     "execution_count": 2,
     "metadata": {},
     "output_type": "execute_result"
    }
   ],
   "source": [
    "repr(a)"
   ]
  },
  {
   "cell_type": "code",
   "execution_count": 4,
   "id": "7a028a86-e596-4b2b-8835-4495c59777a4",
   "metadata": {},
   "outputs": [],
   "source": [
    "arr = np.array([np.nan, 2, 3, 4, 5])\n",
    "arr2 = arr.copy()\n",
    "arr2[0] = 10"
   ]
  },
  {
   "cell_type": "code",
   "execution_count": 13,
   "id": "0fdb7ebc-fc1b-412f-a634-c609305cf844",
   "metadata": {},
   "outputs": [
    {
     "name": "stdout",
     "output_type": "stream",
     "text": [
      "[[[ 0  1]\n",
      "  [ 2  3]\n",
      "  [ 4  5]\n",
      "  [ 6  7]]\n",
      "\n",
      " [[ 8  9]\n",
      "  [10 11]\n",
      "  [12 13]\n",
      "  [14 15]]\n",
      "\n",
      " [[16 17]\n",
      "  [18 19]\n",
      "  [20 21]\n",
      "  [22 23]]]\n"
     ]
    },
    {
     "data": {
      "text/plain": [
       "array([ 0,  1,  2,  3,  4,  5,  6,  7,  8,  9, 10, 11, 12, 13, 14, 15, 16,\n",
       "       17, 18, 19, 20, 21, 22, 23])"
      ]
     },
     "execution_count": 13,
     "metadata": {},
     "output_type": "execute_result"
    }
   ],
   "source": [
    "arr = np.arange(24)\n",
    "\n",
    "arr = np.reshape(arr, (3, 4, 2))\n",
    "print(arr)\n",
    "arr.flatten()"
   ]
  },
  {
   "cell_type": "code",
   "execution_count": 21,
   "id": "072e80cd-dbbd-4b72-bc06-256fef493a97",
   "metadata": {},
   "outputs": [],
   "source": [
    "matrix = np.arange(9) + 1\n",
    "matrix = matrix.reshape((3,3))"
   ]
  },
  {
   "cell_type": "code",
   "execution_count": 23,
   "id": "be19a268-53a7-4cd0-8f9e-999addb61e40",
   "metadata": {},
   "outputs": [],
   "source": [
    "np.random.shuffle(matrix)"
   ]
  },
  {
   "cell_type": "code",
   "execution_count": 26,
   "id": "ac9b089b-a682-4254-a084-8dc29e45c848",
   "metadata": {},
   "outputs": [
    {
     "data": {
      "text/plain": [
       "array([[ 1, -5],\n",
       "       [-1,  4]])"
      ]
     },
     "execution_count": 26,
     "metadata": {},
     "output_type": "execute_result"
    }
   ],
   "source": [
    "np_filter = np.array([[True, False],[False,True]])\n",
    "positive = np.array([[1,2],[3,4]])\n",
    "negative = np.array([[-2,-5],[-1,-8]])\n",
    "\n",
    "np.where(np_filter, positive, negative)"
   ]
  },
  {
   "cell_type": "code",
   "execution_count": 27,
   "id": "06005e00-03d2-4a99-9e02-18f37c92cbe0",
   "metadata": {},
   "outputs": [],
   "source": [
    "arr = np.array([[-2, -1, -3],\n",
    "[4, 5, -6],\n",
    "[3, 9, 1]])"
   ]
  },
  {
   "cell_type": "code",
   "execution_count": 31,
   "id": "ce0c256b-9b30-447f-a67c-03f0c3efe8da",
   "metadata": {},
   "outputs": [
    {
     "data": {
      "text/plain": [
       "array([False,  True,  True])"
      ]
     },
     "execution_count": 31,
     "metadata": {},
     "output_type": "execute_result"
    }
   ],
   "source": [
    "np.any(arr >0, axis=1)"
   ]
  },
  {
   "cell_type": "code",
   "execution_count": 38,
   "id": "ebeae804-cd2a-4861-a55e-4742766486db",
   "metadata": {},
   "outputs": [
    {
     "data": {
      "text/plain": [
       "array([[ 4,  5, -6]])"
      ]
     },
     "execution_count": 38,
     "metadata": {},
     "output_type": "execute_result"
    }
   ],
   "source": [
    "arr[np.where(np.any(arr==5, axis=1))]"
   ]
  },
  {
   "cell_type": "markdown",
   "id": "957b3b1d-dee4-4088-a351-dafaca812ee6",
   "metadata": {},
   "source": [
    "# Data Preprocessing"
   ]
  },
  {
   "cell_type": "code",
   "execution_count": 39,
   "id": "1fa1600f-3721-437e-a734-5296396f6ce3",
   "metadata": {},
   "outputs": [],
   "source": [
    "import pandas as pd"
   ]
  },
  {
   "cell_type": "code",
   "execution_count": 42,
   "id": "d1e8559a-6d90-4b0c-a4be-3eaaec978649",
   "metadata": {},
   "outputs": [
    {
     "name": "stdout",
     "output_type": "stream",
     "text": [
      "      0  1\n",
      "0   5.0  6\n",
      "1   1.2  3\n",
      "r3  0.0  0\n",
      "     0  1\n",
      "0  5.0  6\n",
      "1  1.2  3\n",
      "2  0.0  0\n",
      "     0  1\n",
      "0  5.0  6\n",
      "1  1.2  3\n",
      "0  0.0  0\n",
      "1  9.0  9\n"
     ]
    }
   ],
   "source": [
    "df = pd.DataFrame([[5,6],[1.2,3]])\n",
    "ser = pd.Series([0,0],name='r3')\n",
    "\n",
    "df_app = df.append(ser)\n",
    "print(df_app)\n",
    "df_app = df.append(ser, ignore_index=True)\n",
    "print(df_app)\n",
    "\n",
    "df2 = pd.DataFrame([[0,0],[9,9]])\n",
    "df_app = df.append(df2)\n",
    "print(df_app)"
   ]
  },
  {
   "cell_type": "code",
   "execution_count": 50,
   "id": "6624661f-9b2f-415c-97e1-ed5cfa3ed0bb",
   "metadata": {},
   "outputs": [],
   "source": [
    "df = pd.DataFrame({'c1': [1,2], 'c2': [3,4], 'c3': [5,6]}, index=['r1', 'r2'])"
   ]
  },
  {
   "cell_type": "code",
   "execution_count": 55,
   "id": "b28a8989-5774-440a-9081-5b26fb0cd5b8",
   "metadata": {},
   "outputs": [
    {
     "name": "stdout",
     "output_type": "stream",
     "text": [
      "    c2\n",
      "r1   3\n",
      "r2   4\n",
      "    c1  c2  c3\n",
      "r1   1   3   5\n",
      "    c1  c3\n",
      "r1   1   5\n"
     ]
    }
   ],
   "source": [
    "print(df.drop(labels=['c1', 'c3'], axis=1))\n",
    "print(df.drop(index='r2'))\n",
    "print(df.drop(index='r2', columns='c2'))"
   ]
  },
  {
   "cell_type": "code",
   "execution_count": 62,
   "id": "61f396da-c118-4dd4-a3d6-4737dbbd6f6a",
   "metadata": {},
   "outputs": [
    {
     "name": "stdout",
     "output_type": "stream",
     "text": [
      "    c1  c2  c1  c2\n",
      "r1   1   3   5   7\n",
      "r2   2   4   6   8\n",
      "    c1  c2\n",
      "r1   5   7\n",
      "r2   6   8\n",
      "r1   1   3\n",
      "r2   2   4\n",
      "0    5   7\n",
      "1    6   8\n"
     ]
    }
   ],
   "source": [
    "df1 = pd.DataFrame({'c1':[1,2], 'c2':[3,4]},\n",
    "index=['r1','r2'])\n",
    "df2 = pd.DataFrame({'c1':[5,6], 'c2':[7,8]},\n",
    "index=['r1','r2'])\n",
    "df3 = pd.DataFrame({'c1':[5,6], 'c2':[7,8]})\n",
    "\n",
    "print(pd.concat([df1, df2], axis=1))\n",
    "print(pd.concat([df2, df1, df3]))"
   ]
  },
  {
   "cell_type": "code",
   "execution_count": 63,
   "id": "cb485241-7803-4a4c-88bc-6057d9bc25c9",
   "metadata": {},
   "outputs": [],
   "source": [
    "mlb_df1 = pd.DataFrame({'name': ['john doe', 'al smith', 'sam black', 'john doe'],\n",
    "'pos': ['1B', 'C', 'P', '2B'],\n",
    "'year': [2000, 2004, 2008, 2003]})\n",
    "mlb_df2 = pd.DataFrame({'name': ['john doe', 'al smith', 'jack lee'],\n",
    "'year': [2000, 2004, 2012],\n",
    "'rbi': [80, 100, 12]})"
   ]
  },
  {
   "cell_type": "code",
   "execution_count": 64,
   "id": "37032564-1fde-4178-a2ff-9a5dfbf081f4",
   "metadata": {},
   "outputs": [
    {
     "data": {
      "text/html": [
       "<div>\n",
       "<style scoped>\n",
       "    .dataframe tbody tr th:only-of-type {\n",
       "        vertical-align: middle;\n",
       "    }\n",
       "\n",
       "    .dataframe tbody tr th {\n",
       "        vertical-align: top;\n",
       "    }\n",
       "\n",
       "    .dataframe thead th {\n",
       "        text-align: right;\n",
       "    }\n",
       "</style>\n",
       "<table border=\"1\" class=\"dataframe\">\n",
       "  <thead>\n",
       "    <tr style=\"text-align: right;\">\n",
       "      <th></th>\n",
       "      <th>name</th>\n",
       "      <th>pos</th>\n",
       "      <th>year</th>\n",
       "      <th>rbi</th>\n",
       "    </tr>\n",
       "  </thead>\n",
       "  <tbody>\n",
       "    <tr>\n",
       "      <th>0</th>\n",
       "      <td>john doe</td>\n",
       "      <td>1B</td>\n",
       "      <td>2000</td>\n",
       "      <td>80</td>\n",
       "    </tr>\n",
       "    <tr>\n",
       "      <th>1</th>\n",
       "      <td>al smith</td>\n",
       "      <td>C</td>\n",
       "      <td>2004</td>\n",
       "      <td>100</td>\n",
       "    </tr>\n",
       "  </tbody>\n",
       "</table>\n",
       "</div>"
      ],
      "text/plain": [
       "       name pos  year  rbi\n",
       "0  john doe  1B  2000   80\n",
       "1  al smith   C  2004  100"
      ]
     },
     "execution_count": 64,
     "metadata": {},
     "output_type": "execute_result"
    }
   ],
   "source": [
    "pd.merge(mlb_df1, mlb_df2)"
   ]
  },
  {
   "cell_type": "code",
   "execution_count": 68,
   "id": "33236692-17eb-4ae8-983e-3325ff0a9fcc",
   "metadata": {},
   "outputs": [],
   "source": [
    "stats_df = pd.read_csv('baseballdatabank-master/core/Salaries.csv')"
   ]
  },
  {
   "cell_type": "code",
   "execution_count": 83,
   "id": "fa9f4cd6-5775-45c0-945f-e0cc5928b498",
   "metadata": {},
   "outputs": [],
   "source": [
    "groups = stats_df.groupby('yearID')\n",
    "for name, group in groups:\n",
    "    # print('Year: {}'.format(name))\n",
    "    # print('{}\\n'.format(group))\n",
    "    pass\n",
    "# print(groups.get_group(2016))\n",
    "# print(groups.sum())\n",
    "# print(groups.mean())\n",
    "\n",
    "no2015 = groups.filter(lambda x: x.name > 2014)"
   ]
  },
  {
   "cell_type": "code",
   "execution_count": 86,
   "id": "b8518f68-84a6-4ab2-aa81-422b7d5d24f5",
   "metadata": {},
   "outputs": [
    {
     "name": "stdout",
     "output_type": "stream",
     "text": [
      "                  salary\n",
      "yearID teamID           \n",
      "1985   ATL      14807000\n",
      "       BAL      11560712\n",
      "       BOS      10897560\n",
      "       CAL      14427894\n",
      "       CHA       9846178\n",
      "...                  ...\n",
      "2016   SLN     143053500\n",
      "       TBA      57097310\n",
      "       TEX     176038723\n",
      "       TOR     138701700\n",
      "       WAS     141652646\n",
      "\n",
      "[918 rows x 1 columns]\n"
     ]
    }
   ],
   "source": [
    "groups = stats_df.groupby(['yearID', 'teamID'])\n",
    "print(groups.sum())"
   ]
  },
  {
   "cell_type": "code",
   "execution_count": 88,
   "id": "2ac9ba66-aea6-4e98-88e0-d49d3654ca8a",
   "metadata": {},
   "outputs": [
    {
     "data": {
      "text/html": [
       "<div>\n",
       "<style scoped>\n",
       "    .dataframe tbody tr th:only-of-type {\n",
       "        vertical-align: middle;\n",
       "    }\n",
       "\n",
       "    .dataframe tbody tr th {\n",
       "        vertical-align: top;\n",
       "    }\n",
       "\n",
       "    .dataframe thead th {\n",
       "        text-align: right;\n",
       "    }\n",
       "</style>\n",
       "<table border=\"1\" class=\"dataframe\">\n",
       "  <thead>\n",
       "    <tr style=\"text-align: right;\">\n",
       "      <th></th>\n",
       "      <th>yearID</th>\n",
       "      <th>teamID</th>\n",
       "      <th>lgID</th>\n",
       "      <th>playerID</th>\n",
       "      <th>salary</th>\n",
       "    </tr>\n",
       "  </thead>\n",
       "  <tbody>\n",
       "    <tr>\n",
       "      <th>0</th>\n",
       "      <td>1985</td>\n",
       "      <td>ATL</td>\n",
       "      <td>NL</td>\n",
       "      <td>barkele01</td>\n",
       "      <td>870000</td>\n",
       "    </tr>\n",
       "    <tr>\n",
       "      <th>1</th>\n",
       "      <td>1985</td>\n",
       "      <td>ATL</td>\n",
       "      <td>NL</td>\n",
       "      <td>bedrost01</td>\n",
       "      <td>550000</td>\n",
       "    </tr>\n",
       "    <tr>\n",
       "      <th>2</th>\n",
       "      <td>1985</td>\n",
       "      <td>ATL</td>\n",
       "      <td>NL</td>\n",
       "      <td>benedbr01</td>\n",
       "      <td>545000</td>\n",
       "    </tr>\n",
       "    <tr>\n",
       "      <th>3</th>\n",
       "      <td>1985</td>\n",
       "      <td>ATL</td>\n",
       "      <td>NL</td>\n",
       "      <td>campri01</td>\n",
       "      <td>633333</td>\n",
       "    </tr>\n",
       "    <tr>\n",
       "      <th>4</th>\n",
       "      <td>1985</td>\n",
       "      <td>ATL</td>\n",
       "      <td>NL</td>\n",
       "      <td>ceronri01</td>\n",
       "      <td>625000</td>\n",
       "    </tr>\n",
       "  </tbody>\n",
       "</table>\n",
       "</div>"
      ],
      "text/plain": [
       "   yearID teamID lgID   playerID  salary\n",
       "0    1985    ATL   NL  barkele01  870000\n",
       "1    1985    ATL   NL  bedrost01  550000\n",
       "2    1985    ATL   NL  benedbr01  545000\n",
       "3    1985    ATL   NL   campri01  633333\n",
       "4    1985    ATL   NL  ceronri01  625000"
      ]
     },
     "execution_count": 88,
     "metadata": {},
     "output_type": "execute_result"
    }
   ],
   "source": [
    "stats_df.head()"
   ]
  },
  {
   "cell_type": "code",
   "execution_count": 90,
   "id": "88349557-2875-4297-9cdc-61f4c6ce6096",
   "metadata": {},
   "outputs": [
    {
     "name": "stdout",
     "output_type": "stream",
     "text": [
      "T1    33\n",
      "T2    77\n",
      "T3    41\n",
      "dtype: int64\n"
     ]
    }
   ],
   "source": [
    "df = pd.DataFrame({\n",
    "'T1': [10, 15, 8],\n",
    "'T2': [25, 27, 25],\n",
    "'T3': [16, 15, 10]})\n",
    "print(df.sum())"
   ]
  },
  {
   "cell_type": "code",
   "execution_count": 92,
   "id": "e8427dda-4c35-4d75-82de-1b15cc6a6ffb",
   "metadata": {},
   "outputs": [],
   "source": [
    "df = pd.DataFrame({\n",
    "'T1': [0.1, 150.],\n",
    "'T2': [0.25, 240.],\n",
    "'T3': [0.16, 100.]})\n",
    "\n",
    "df_ms = df.multiply([1000, 1], axis=0)"
   ]
  },
  {
   "cell_type": "code",
   "execution_count": 93,
   "id": "284adf4d-4955-4288-a373-03b39f3eefc3",
   "metadata": {},
   "outputs": [
    {
     "data": {
      "text/html": [
       "<div>\n",
       "<style scoped>\n",
       "    .dataframe tbody tr th:only-of-type {\n",
       "        vertical-align: middle;\n",
       "    }\n",
       "\n",
       "    .dataframe tbody tr th {\n",
       "        vertical-align: top;\n",
       "    }\n",
       "\n",
       "    .dataframe thead th {\n",
       "        text-align: right;\n",
       "    }\n",
       "</style>\n",
       "<table border=\"1\" class=\"dataframe\">\n",
       "  <thead>\n",
       "    <tr style=\"text-align: right;\">\n",
       "      <th></th>\n",
       "      <th>T1</th>\n",
       "      <th>T2</th>\n",
       "      <th>T3</th>\n",
       "    </tr>\n",
       "  </thead>\n",
       "  <tbody>\n",
       "    <tr>\n",
       "      <th>0</th>\n",
       "      <td>100.0</td>\n",
       "      <td>250.0</td>\n",
       "      <td>160.0</td>\n",
       "    </tr>\n",
       "    <tr>\n",
       "      <th>1</th>\n",
       "      <td>150.0</td>\n",
       "      <td>240.0</td>\n",
       "      <td>100.0</td>\n",
       "    </tr>\n",
       "  </tbody>\n",
       "</table>\n",
       "</div>"
      ],
      "text/plain": [
       "      T1     T2     T3\n",
       "0  100.0  250.0  160.0\n",
       "1  150.0  240.0  100.0"
      ]
     },
     "execution_count": 93,
     "metadata": {},
     "output_type": "execute_result"
    }
   ],
   "source": [
    "df_ms"
   ]
  },
  {
   "cell_type": "code",
   "execution_count": 96,
   "id": "0514ac87-66e4-403f-96bb-a42da4486583",
   "metadata": {},
   "outputs": [],
   "source": [
    "mlb_df = pd.read_csv('baseballdatabank-master/core/Batting.csv')"
   ]
  },
  {
   "cell_type": "code",
   "execution_count": 97,
   "id": "f0d9e79c-3d0c-48f0-acd0-d8c7653e0780",
   "metadata": {},
   "outputs": [],
   "source": [
    "def col_list_sum(df, col_list, weights=None):\n",
    "    col_df = df[col_list]\n",
    "    if weights is not None:\n",
    "        col_df = col_df.multiply(weights)\n",
    "    return col_df.sum(axis=1)"
   ]
  },
  {
   "cell_type": "code",
   "execution_count": 101,
   "id": "c6e742d1-5cb6-41e7-ace9-14bfd73ac300",
   "metadata": {},
   "outputs": [],
   "source": [
    "mlb_df['BA'] = mlb_df['H'] / mlb_df['AB']\n",
    "mlb_df['1B'] = mlb_df['H'] - (mlb_df['2B'] + mlb_df['3B'] + mlb_df['HR'])"
   ]
  },
  {
   "cell_type": "code",
   "execution_count": 103,
   "id": "4dc0a3ee-ceff-4c0e-9d02-2783958c4c73",
   "metadata": {},
   "outputs": [],
   "source": [
    "weighted_hits = col_list_sum(mlb_df, ['1B', '2B', '3B', 'HR'], [1, 2, 3, 4])"
   ]
  },
  {
   "cell_type": "code",
   "execution_count": 106,
   "id": "0d2b9ac3-d56a-4740-8669-ecd714343cd2",
   "metadata": {},
   "outputs": [
    {
     "data": {
      "text/html": [
       "<div>\n",
       "<style scoped>\n",
       "    .dataframe tbody tr th:only-of-type {\n",
       "        vertical-align: middle;\n",
       "    }\n",
       "\n",
       "    .dataframe tbody tr th {\n",
       "        vertical-align: top;\n",
       "    }\n",
       "\n",
       "    .dataframe thead th {\n",
       "        text-align: right;\n",
       "    }\n",
       "</style>\n",
       "<table border=\"1\" class=\"dataframe\">\n",
       "  <thead>\n",
       "    <tr style=\"text-align: right;\">\n",
       "      <th></th>\n",
       "      <th>RBI</th>\n",
       "      <th>AB</th>\n",
       "      <th>HR</th>\n",
       "    </tr>\n",
       "  </thead>\n",
       "  <tbody>\n",
       "    <tr>\n",
       "      <th>count</th>\n",
       "      <td>108033.000000</td>\n",
       "      <td>108789.000000</td>\n",
       "      <td>108789.000000</td>\n",
       "    </tr>\n",
       "    <tr>\n",
       "      <th>mean</th>\n",
       "      <td>16.790388</td>\n",
       "      <td>139.241320</td>\n",
       "      <td>2.850150</td>\n",
       "    </tr>\n",
       "    <tr>\n",
       "      <th>std</th>\n",
       "      <td>26.225046</td>\n",
       "      <td>183.602089</td>\n",
       "      <td>6.368678</td>\n",
       "    </tr>\n",
       "    <tr>\n",
       "      <th>min</th>\n",
       "      <td>0.000000</td>\n",
       "      <td>0.000000</td>\n",
       "      <td>0.000000</td>\n",
       "    </tr>\n",
       "    <tr>\n",
       "      <th>25%</th>\n",
       "      <td>0.000000</td>\n",
       "      <td>4.000000</td>\n",
       "      <td>0.000000</td>\n",
       "    </tr>\n",
       "    <tr>\n",
       "      <th>50%</th>\n",
       "      <td>3.000000</td>\n",
       "      <td>46.000000</td>\n",
       "      <td>0.000000</td>\n",
       "    </tr>\n",
       "    <tr>\n",
       "      <th>75%</th>\n",
       "      <td>24.000000</td>\n",
       "      <td>224.000000</td>\n",
       "      <td>2.000000</td>\n",
       "    </tr>\n",
       "    <tr>\n",
       "      <th>max</th>\n",
       "      <td>191.000000</td>\n",
       "      <td>716.000000</td>\n",
       "      <td>73.000000</td>\n",
       "    </tr>\n",
       "  </tbody>\n",
       "</table>\n",
       "</div>"
      ],
      "text/plain": [
       "                 RBI             AB             HR\n",
       "count  108033.000000  108789.000000  108789.000000\n",
       "mean       16.790388     139.241320       2.850150\n",
       "std        26.225046     183.602089       6.368678\n",
       "min         0.000000       0.000000       0.000000\n",
       "25%         0.000000       4.000000       0.000000\n",
       "50%         3.000000      46.000000       0.000000\n",
       "75%        24.000000     224.000000       2.000000\n",
       "max       191.000000     716.000000      73.000000"
      ]
     },
     "execution_count": 106,
     "metadata": {},
     "output_type": "execute_result"
    }
   ],
   "source": [
    "mlb_df[['RBI', 'AB', 'HR']].describe()"
   ]
  },
  {
   "cell_type": "code",
   "execution_count": 113,
   "id": "b2c0a39a-a4d1-417a-895f-40e1f1ce851e",
   "metadata": {},
   "outputs": [
    {
     "data": {
      "text/plain": [
       "array([['abercda01', 1871, 1, ..., 0.0, 0.0, 0],\n",
       "       ['addybo01', 1871, 1, ..., 0.0, 0.2711864406779661, 26],\n",
       "       ['allisar01', 1871, 1, ..., 1.0, 0.291970802919708, 31],\n",
       "       ...,\n",
       "       ['zimmeky01', 2020, 1, ..., 0.0, nan, 0],\n",
       "       ['zuberty01', 2020, 1, ..., 0.0, nan, 0],\n",
       "       ['zuninmi01', 2020, 1, ..., 0.0, 0.14666666666666667, 3]],\n",
       "      dtype=object)"
      ]
     },
     "execution_count": 113,
     "metadata": {},
     "output_type": "execute_result"
    }
   ],
   "source": [
    "mlb_df.values"
   ]
  },
  {
   "cell_type": "code",
   "execution_count": 111,
   "id": "f1ef232b-07f9-40ec-9fd7-c20dab8a293b",
   "metadata": {},
   "outputs": [
    {
     "data": {
      "text/html": [
       "<div>\n",
       "<style scoped>\n",
       "    .dataframe tbody tr th:only-of-type {\n",
       "        vertical-align: middle;\n",
       "    }\n",
       "\n",
       "    .dataframe tbody tr th {\n",
       "        vertical-align: top;\n",
       "    }\n",
       "\n",
       "    .dataframe thead th {\n",
       "        text-align: right;\n",
       "    }\n",
       "</style>\n",
       "<table border=\"1\" class=\"dataframe\">\n",
       "  <thead>\n",
       "    <tr style=\"text-align: right;\">\n",
       "      <th></th>\n",
       "      <th>yearID</th>\n",
       "      <th>stint</th>\n",
       "      <th>G</th>\n",
       "      <th>AB</th>\n",
       "      <th>R</th>\n",
       "      <th>H</th>\n",
       "      <th>2B</th>\n",
       "      <th>3B</th>\n",
       "      <th>HR</th>\n",
       "      <th>RBI</th>\n",
       "      <th>...</th>\n",
       "      <th>teamID_WS7</th>\n",
       "      <th>teamID_WS8</th>\n",
       "      <th>teamID_WS9</th>\n",
       "      <th>teamID_WSU</th>\n",
       "      <th>lgID_AA</th>\n",
       "      <th>lgID_AL</th>\n",
       "      <th>lgID_FL</th>\n",
       "      <th>lgID_NL</th>\n",
       "      <th>lgID_PL</th>\n",
       "      <th>lgID_UA</th>\n",
       "    </tr>\n",
       "  </thead>\n",
       "  <tbody>\n",
       "    <tr>\n",
       "      <th>0</th>\n",
       "      <td>1871</td>\n",
       "      <td>1</td>\n",
       "      <td>1</td>\n",
       "      <td>4</td>\n",
       "      <td>0</td>\n",
       "      <td>0</td>\n",
       "      <td>0</td>\n",
       "      <td>0</td>\n",
       "      <td>0</td>\n",
       "      <td>0.0</td>\n",
       "      <td>...</td>\n",
       "      <td>0</td>\n",
       "      <td>0</td>\n",
       "      <td>0</td>\n",
       "      <td>0</td>\n",
       "      <td>0</td>\n",
       "      <td>0</td>\n",
       "      <td>0</td>\n",
       "      <td>0</td>\n",
       "      <td>0</td>\n",
       "      <td>0</td>\n",
       "    </tr>\n",
       "    <tr>\n",
       "      <th>1</th>\n",
       "      <td>1871</td>\n",
       "      <td>1</td>\n",
       "      <td>25</td>\n",
       "      <td>118</td>\n",
       "      <td>30</td>\n",
       "      <td>32</td>\n",
       "      <td>6</td>\n",
       "      <td>0</td>\n",
       "      <td>0</td>\n",
       "      <td>13.0</td>\n",
       "      <td>...</td>\n",
       "      <td>0</td>\n",
       "      <td>0</td>\n",
       "      <td>0</td>\n",
       "      <td>0</td>\n",
       "      <td>0</td>\n",
       "      <td>0</td>\n",
       "      <td>0</td>\n",
       "      <td>0</td>\n",
       "      <td>0</td>\n",
       "      <td>0</td>\n",
       "    </tr>\n",
       "    <tr>\n",
       "      <th>2</th>\n",
       "      <td>1871</td>\n",
       "      <td>1</td>\n",
       "      <td>29</td>\n",
       "      <td>137</td>\n",
       "      <td>28</td>\n",
       "      <td>40</td>\n",
       "      <td>4</td>\n",
       "      <td>5</td>\n",
       "      <td>0</td>\n",
       "      <td>19.0</td>\n",
       "      <td>...</td>\n",
       "      <td>0</td>\n",
       "      <td>0</td>\n",
       "      <td>0</td>\n",
       "      <td>0</td>\n",
       "      <td>0</td>\n",
       "      <td>0</td>\n",
       "      <td>0</td>\n",
       "      <td>0</td>\n",
       "      <td>0</td>\n",
       "      <td>0</td>\n",
       "    </tr>\n",
       "    <tr>\n",
       "      <th>3</th>\n",
       "      <td>1871</td>\n",
       "      <td>1</td>\n",
       "      <td>27</td>\n",
       "      <td>133</td>\n",
       "      <td>28</td>\n",
       "      <td>44</td>\n",
       "      <td>10</td>\n",
       "      <td>2</td>\n",
       "      <td>2</td>\n",
       "      <td>27.0</td>\n",
       "      <td>...</td>\n",
       "      <td>0</td>\n",
       "      <td>0</td>\n",
       "      <td>0</td>\n",
       "      <td>0</td>\n",
       "      <td>0</td>\n",
       "      <td>0</td>\n",
       "      <td>0</td>\n",
       "      <td>0</td>\n",
       "      <td>0</td>\n",
       "      <td>0</td>\n",
       "    </tr>\n",
       "    <tr>\n",
       "      <th>4</th>\n",
       "      <td>1871</td>\n",
       "      <td>1</td>\n",
       "      <td>25</td>\n",
       "      <td>120</td>\n",
       "      <td>29</td>\n",
       "      <td>39</td>\n",
       "      <td>11</td>\n",
       "      <td>3</td>\n",
       "      <td>0</td>\n",
       "      <td>16.0</td>\n",
       "      <td>...</td>\n",
       "      <td>0</td>\n",
       "      <td>0</td>\n",
       "      <td>0</td>\n",
       "      <td>0</td>\n",
       "      <td>0</td>\n",
       "      <td>0</td>\n",
       "      <td>0</td>\n",
       "      <td>0</td>\n",
       "      <td>0</td>\n",
       "      <td>0</td>\n",
       "    </tr>\n",
       "    <tr>\n",
       "      <th>...</th>\n",
       "      <td>...</td>\n",
       "      <td>...</td>\n",
       "      <td>...</td>\n",
       "      <td>...</td>\n",
       "      <td>...</td>\n",
       "      <td>...</td>\n",
       "      <td>...</td>\n",
       "      <td>...</td>\n",
       "      <td>...</td>\n",
       "      <td>...</td>\n",
       "      <td>...</td>\n",
       "      <td>...</td>\n",
       "      <td>...</td>\n",
       "      <td>...</td>\n",
       "      <td>...</td>\n",
       "      <td>...</td>\n",
       "      <td>...</td>\n",
       "      <td>...</td>\n",
       "      <td>...</td>\n",
       "      <td>...</td>\n",
       "      <td>...</td>\n",
       "    </tr>\n",
       "    <tr>\n",
       "      <th>108784</th>\n",
       "      <td>2020</td>\n",
       "      <td>1</td>\n",
       "      <td>2</td>\n",
       "      <td>0</td>\n",
       "      <td>0</td>\n",
       "      <td>0</td>\n",
       "      <td>0</td>\n",
       "      <td>0</td>\n",
       "      <td>0</td>\n",
       "      <td>0.0</td>\n",
       "      <td>...</td>\n",
       "      <td>0</td>\n",
       "      <td>0</td>\n",
       "      <td>0</td>\n",
       "      <td>0</td>\n",
       "      <td>0</td>\n",
       "      <td>1</td>\n",
       "      <td>0</td>\n",
       "      <td>0</td>\n",
       "      <td>0</td>\n",
       "      <td>0</td>\n",
       "    </tr>\n",
       "    <tr>\n",
       "      <th>108785</th>\n",
       "      <td>2020</td>\n",
       "      <td>1</td>\n",
       "      <td>3</td>\n",
       "      <td>0</td>\n",
       "      <td>0</td>\n",
       "      <td>0</td>\n",
       "      <td>0</td>\n",
       "      <td>0</td>\n",
       "      <td>0</td>\n",
       "      <td>0.0</td>\n",
       "      <td>...</td>\n",
       "      <td>0</td>\n",
       "      <td>0</td>\n",
       "      <td>0</td>\n",
       "      <td>0</td>\n",
       "      <td>0</td>\n",
       "      <td>1</td>\n",
       "      <td>0</td>\n",
       "      <td>0</td>\n",
       "      <td>0</td>\n",
       "      <td>0</td>\n",
       "    </tr>\n",
       "    <tr>\n",
       "      <th>108786</th>\n",
       "      <td>2020</td>\n",
       "      <td>1</td>\n",
       "      <td>16</td>\n",
       "      <td>0</td>\n",
       "      <td>0</td>\n",
       "      <td>0</td>\n",
       "      <td>0</td>\n",
       "      <td>0</td>\n",
       "      <td>0</td>\n",
       "      <td>0.0</td>\n",
       "      <td>...</td>\n",
       "      <td>0</td>\n",
       "      <td>0</td>\n",
       "      <td>0</td>\n",
       "      <td>0</td>\n",
       "      <td>0</td>\n",
       "      <td>1</td>\n",
       "      <td>0</td>\n",
       "      <td>0</td>\n",
       "      <td>0</td>\n",
       "      <td>0</td>\n",
       "    </tr>\n",
       "    <tr>\n",
       "      <th>108787</th>\n",
       "      <td>2020</td>\n",
       "      <td>1</td>\n",
       "      <td>23</td>\n",
       "      <td>0</td>\n",
       "      <td>0</td>\n",
       "      <td>0</td>\n",
       "      <td>0</td>\n",
       "      <td>0</td>\n",
       "      <td>0</td>\n",
       "      <td>0.0</td>\n",
       "      <td>...</td>\n",
       "      <td>0</td>\n",
       "      <td>0</td>\n",
       "      <td>0</td>\n",
       "      <td>0</td>\n",
       "      <td>0</td>\n",
       "      <td>1</td>\n",
       "      <td>0</td>\n",
       "      <td>0</td>\n",
       "      <td>0</td>\n",
       "      <td>0</td>\n",
       "    </tr>\n",
       "    <tr>\n",
       "      <th>108788</th>\n",
       "      <td>2020</td>\n",
       "      <td>1</td>\n",
       "      <td>28</td>\n",
       "      <td>75</td>\n",
       "      <td>8</td>\n",
       "      <td>11</td>\n",
       "      <td>4</td>\n",
       "      <td>0</td>\n",
       "      <td>4</td>\n",
       "      <td>10.0</td>\n",
       "      <td>...</td>\n",
       "      <td>0</td>\n",
       "      <td>0</td>\n",
       "      <td>0</td>\n",
       "      <td>0</td>\n",
       "      <td>0</td>\n",
       "      <td>1</td>\n",
       "      <td>0</td>\n",
       "      <td>0</td>\n",
       "      <td>0</td>\n",
       "      <td>0</td>\n",
       "    </tr>\n",
       "  </tbody>\n",
       "</table>\n",
       "<p>108789 rows × 20074 columns</p>\n",
       "</div>"
      ],
      "text/plain": [
       "        yearID  stint   G   AB   R   H  2B  3B  HR   RBI  ...  teamID_WS7  \\\n",
       "0         1871      1   1    4   0   0   0   0   0   0.0  ...           0   \n",
       "1         1871      1  25  118  30  32   6   0   0  13.0  ...           0   \n",
       "2         1871      1  29  137  28  40   4   5   0  19.0  ...           0   \n",
       "3         1871      1  27  133  28  44  10   2   2  27.0  ...           0   \n",
       "4         1871      1  25  120  29  39  11   3   0  16.0  ...           0   \n",
       "...        ...    ...  ..  ...  ..  ..  ..  ..  ..   ...  ...         ...   \n",
       "108784    2020      1   2    0   0   0   0   0   0   0.0  ...           0   \n",
       "108785    2020      1   3    0   0   0   0   0   0   0.0  ...           0   \n",
       "108786    2020      1  16    0   0   0   0   0   0   0.0  ...           0   \n",
       "108787    2020      1  23    0   0   0   0   0   0   0.0  ...           0   \n",
       "108788    2020      1  28   75   8  11   4   0   4  10.0  ...           0   \n",
       "\n",
       "        teamID_WS8  teamID_WS9  teamID_WSU  lgID_AA  lgID_AL  lgID_FL  \\\n",
       "0                0           0           0        0        0        0   \n",
       "1                0           0           0        0        0        0   \n",
       "2                0           0           0        0        0        0   \n",
       "3                0           0           0        0        0        0   \n",
       "4                0           0           0        0        0        0   \n",
       "...            ...         ...         ...      ...      ...      ...   \n",
       "108784           0           0           0        0        1        0   \n",
       "108785           0           0           0        0        1        0   \n",
       "108786           0           0           0        0        1        0   \n",
       "108787           0           0           0        0        1        0   \n",
       "108788           0           0           0        0        1        0   \n",
       "\n",
       "        lgID_NL  lgID_PL  lgID_UA  \n",
       "0             0        0        0  \n",
       "1             0        0        0  \n",
       "2             0        0        0  \n",
       "3             0        0        0  \n",
       "4             0        0        0  \n",
       "...         ...      ...      ...  \n",
       "108784        0        0        0  \n",
       "108785        0        0        0  \n",
       "108786        0        0        0  \n",
       "108787        0        0        0  \n",
       "108788        0        0        0  \n",
       "\n",
       "[108789 rows x 20074 columns]"
      ]
     },
     "execution_count": 111,
     "metadata": {},
     "output_type": "execute_result"
    }
   ],
   "source": [
    "pd.get_dummies(mlb_df)"
   ]
  },
  {
   "cell_type": "code",
   "execution_count": 115,
   "id": "68183d58-19eb-4a3b-8cfe-d7f6d71e367c",
   "metadata": {},
   "outputs": [],
   "source": [
    "from sklearn.preprocessing import scale\n",
    "\n",
    "scale(mlb_df[['AB', '1B', '2B', '3B', 'HR']])"
   ]
  },
  {
   "cell_type": "code",
   "execution_count": 118,
   "id": "4f6e3d64-ee5b-486e-aa87-983187a21f7f",
   "metadata": {},
   "outputs": [
    {
     "data": {
      "text/plain": [
       "array([[1.        , 0.        , 0.        , 0.        , 0.        ],\n",
       "       [0.97537317, 0.21491273, 0.04959525, 0.        , 0.        ],\n",
       "       [0.97433039, 0.22046892, 0.0284476 , 0.0355595 , 0.        ],\n",
       "       ...,\n",
       "       [0.        , 0.        , 0.        , 0.        , 0.        ],\n",
       "       [0.        , 0.        , 0.        , 0.        , 0.        ],\n",
       "       [0.99637536, 0.03985501, 0.05314002, 0.        , 0.05314002]])"
      ]
     },
     "execution_count": 118,
     "metadata": {},
     "output_type": "execute_result"
    }
   ],
   "source": [
    "from sklearn.preprocessing import Normalizer\n",
    "\n",
    "Normalizer().fit_transform(mlb_df[['AB', '1B', '2B', '3B', 'HR']])"
   ]
  },
  {
   "cell_type": "code",
   "execution_count": 119,
   "id": "b670b71b-10b6-4796-ab69-9b4d2efc3d37",
   "metadata": {},
   "outputs": [
    {
     "ename": "AttributeError",
     "evalue": "'DataFrame' object has no attribute 'is_nan'",
     "output_type": "error",
     "traceback": [
      "\u001b[1;31m---------------------------------------------------------------------------\u001b[0m",
      "\u001b[1;31mAttributeError\u001b[0m                            Traceback (most recent call last)",
      "\u001b[1;32m~\\AppData\\Local\\Temp/ipykernel_23980/623696155.py\u001b[0m in \u001b[0;36m<module>\u001b[1;34m\u001b[0m\n\u001b[1;32m----> 1\u001b[1;33m \u001b[0mmlb_df\u001b[0m\u001b[1;33m.\u001b[0m\u001b[0mis_nan\u001b[0m\u001b[1;33m\u001b[0m\u001b[1;33m\u001b[0m\u001b[0m\n\u001b[0m",
      "\u001b[1;32m~\\miniconda3\\lib\\site-packages\\pandas\\core\\generic.py\u001b[0m in \u001b[0;36m__getattr__\u001b[1;34m(self, name)\u001b[0m\n\u001b[0;32m   5485\u001b[0m         ):\n\u001b[0;32m   5486\u001b[0m             \u001b[1;32mreturn\u001b[0m \u001b[0mself\u001b[0m\u001b[1;33m[\u001b[0m\u001b[0mname\u001b[0m\u001b[1;33m]\u001b[0m\u001b[1;33m\u001b[0m\u001b[1;33m\u001b[0m\u001b[0m\n\u001b[1;32m-> 5487\u001b[1;33m         \u001b[1;32mreturn\u001b[0m \u001b[0mobject\u001b[0m\u001b[1;33m.\u001b[0m\u001b[0m__getattribute__\u001b[0m\u001b[1;33m(\u001b[0m\u001b[0mself\u001b[0m\u001b[1;33m,\u001b[0m \u001b[0mname\u001b[0m\u001b[1;33m)\u001b[0m\u001b[1;33m\u001b[0m\u001b[1;33m\u001b[0m\u001b[0m\n\u001b[0m\u001b[0;32m   5488\u001b[0m \u001b[1;33m\u001b[0m\u001b[0m\n\u001b[0;32m   5489\u001b[0m     \u001b[1;32mdef\u001b[0m \u001b[0m__setattr__\u001b[0m\u001b[1;33m(\u001b[0m\u001b[0mself\u001b[0m\u001b[1;33m,\u001b[0m \u001b[0mname\u001b[0m\u001b[1;33m:\u001b[0m \u001b[0mstr\u001b[0m\u001b[1;33m,\u001b[0m \u001b[0mvalue\u001b[0m\u001b[1;33m)\u001b[0m \u001b[1;33m->\u001b[0m \u001b[1;32mNone\u001b[0m\u001b[1;33m:\u001b[0m\u001b[1;33m\u001b[0m\u001b[1;33m\u001b[0m\u001b[0m\n",
      "\u001b[1;31mAttributeError\u001b[0m: 'DataFrame' object has no attribute 'is_nan'"
     ]
    }
   ],
   "source": [
    "mlb_df.is_nan"
   ]
  },
  {
   "cell_type": "code",
   "execution_count": 120,
   "id": "32ff4aab-bcd9-4111-9623-36a92bfe196b",
   "metadata": {},
   "outputs": [
    {
     "ename": "AttributeError",
     "evalue": "module 'pandas' has no attribute 'is_nan'",
     "output_type": "error",
     "traceback": [
      "\u001b[1;31m---------------------------------------------------------------------------\u001b[0m",
      "\u001b[1;31mAttributeError\u001b[0m                            Traceback (most recent call last)",
      "\u001b[1;32m~\\AppData\\Local\\Temp/ipykernel_23980/963805612.py\u001b[0m in \u001b[0;36m<module>\u001b[1;34m\u001b[0m\n\u001b[1;32m----> 1\u001b[1;33m \u001b[0mpd\u001b[0m\u001b[1;33m.\u001b[0m\u001b[0mis_nan\u001b[0m\u001b[1;33m\u001b[0m\u001b[1;33m\u001b[0m\u001b[0m\n\u001b[0m",
      "\u001b[1;32m~\\miniconda3\\lib\\site-packages\\pandas\\__init__.py\u001b[0m in \u001b[0;36m__getattr__\u001b[1;34m(name)\u001b[0m\n\u001b[0;32m    242\u001b[0m         \u001b[1;32mreturn\u001b[0m \u001b[0m_SparseArray\u001b[0m\u001b[1;33m\u001b[0m\u001b[1;33m\u001b[0m\u001b[0m\n\u001b[0;32m    243\u001b[0m \u001b[1;33m\u001b[0m\u001b[0m\n\u001b[1;32m--> 244\u001b[1;33m     \u001b[1;32mraise\u001b[0m \u001b[0mAttributeError\u001b[0m\u001b[1;33m(\u001b[0m\u001b[1;34mf\"module 'pandas' has no attribute '{name}'\"\u001b[0m\u001b[1;33m)\u001b[0m\u001b[1;33m\u001b[0m\u001b[1;33m\u001b[0m\u001b[0m\n\u001b[0m\u001b[0;32m    245\u001b[0m \u001b[1;33m\u001b[0m\u001b[0m\n\u001b[0;32m    246\u001b[0m \u001b[1;33m\u001b[0m\u001b[0m\n",
      "\u001b[1;31mAttributeError\u001b[0m: module 'pandas' has no attribute 'is_nan'"
     ]
    }
   ],
   "source": [
    "pd.is_nan"
   ]
  },
  {
   "cell_type": "code",
   "execution_count": 127,
   "id": "ea558147-116e-4600-b8ee-8c7dd66a8f95",
   "metadata": {},
   "outputs": [],
   "source": [
    "from sklearn.datasets import load_breast_cancer\n",
    "bc = load_breast_cancer()\n",
    "\n",
    "malignant = bc.data[bc.target == 0]\n",
    "benign = bc.data[bc.target == 1]"
   ]
  },
  {
   "cell_type": "code",
   "execution_count": 129,
   "id": "0aee321a-2e90-44fd-a71c-5d567378d92b",
   "metadata": {},
   "outputs": [
    {
     "data": {
      "text/plain": [
       "dict_keys(['data', 'target', 'frame', 'target_names', 'DESCR', 'feature_names', 'filename'])"
      ]
     },
     "execution_count": 129,
     "metadata": {},
     "output_type": "execute_result"
    }
   ],
   "source": [
    "bc.keys()"
   ]
  },
  {
   "cell_type": "code",
   "execution_count": 134,
   "id": "a30d70a2-380d-477d-8320-dc8225a93253",
   "metadata": {},
   "outputs": [],
   "source": [
    "labels = bc.target\n",
    "label_names = bc.target_names\n",
    "data = bc.data"
   ]
  },
  {
   "cell_type": "code",
   "execution_count": 132,
   "id": "f6c17b48-9766-46af-b37d-f3b78604b03c",
   "metadata": {},
   "outputs": [],
   "source": [
    "from sklearn.decomposition import PCA"
   ]
  },
  {
   "cell_type": "code",
   "execution_count": 147,
   "id": "ffed4eb0-8b53-4363-bebf-1dd4aed6b7cc",
   "metadata": {},
   "outputs": [
    {
     "data": {
      "text/plain": [
       "<matplotlib.legend.Legend at 0x1dddc836f48>"
      ]
     },
     "execution_count": 147,
     "metadata": {},
     "output_type": "execute_result"
    },
    {
     "data": {
      "image/png": "[encoded data removed]",
      "text/plain": [
       "<Figure size 504x504 with 1 Axes>"
      ]
     },
     "metadata": {
      "needs_background": "light"
     },
     "output_type": "display_data"
    }
   ],
   "source": [
    "def get_label_info(component_data, labels, class_label, label_names):\n",
    "    label_name = label_names[class_label]\n",
    "    label_data = component_data[labels == class_label]\n",
    "    return label_name, label_data\n",
    "\n",
    "component_data = PCA(2).fit_transform(data)\n",
    "\n",
    "separated_data = []\n",
    "plt.figure(figsize=(7,7))\n",
    "for class_label in range(len(label_names)):\n",
    "    sep_data = get_label_info(component_data, labels, class_label, label_names) \n",
    "    # separated_data.append( )\n",
    "    \n",
    "    plt.scatter(sep_data[1].T[0], sep_data[1].T[1], label=label_names[class_label])\n",
    "    \n",
    "plt.legend()"
   ]
  },
  {
   "cell_type": "markdown",
   "id": "b1690fb7-8528-4e59-9b41-e57c5af61c3b",
   "metadata": {},
   "source": [
    "# Data Modeling"
   ]
  },
  {
   "cell_type": "code",
   "execution_count": 148,
   "id": "1e88e508-d010-45eb-a227-b3ae50a971e8",
   "metadata": {},
   "outputs": [],
   "source": [
    "from sklearn import linear_model\n",
    "reg = linear_model.LinearRegression()"
   ]
  },
  {
   "cell_type": "code",
   "execution_count": 179,
   "id": "6d4115bb-af9a-4e45-a341-b09afeabb7d4",
   "metadata": {},
   "outputs": [
    {
     "data": {
      "text/plain": [
       "<matplotlib.collections.PathCollection at 0x1dddf101108>"
      ]
     },
     "execution_count": 179,
     "metadata": {},
     "output_type": "execute_result"
    },
    {
     "data": {
      "image/png": "[encoded data removed]",
      "text/plain": [
       "<Figure size 432x288 with 1 Axes>"
      ]
     },
     "metadata": {
      "needs_background": "light"
     },
     "output_type": "display_data"
    }
   ],
   "source": [
    "\n",
    "sub_df = mlb_df[['G', 'AB', 'R', 'BB']]\n",
    "y = mlb_df[['HR']]\n",
    "reg.fit(sub_df, y)\n",
    "pred_y = reg.predict(np.array(sub_df))\n",
    "pca = PCA(1).fit_transform(sub_df)\n",
    "\n",
    "plt.scatter(pca, pred_y, alpha=0.01)\n",
    "plt.scatter(pca, y, alpha=0.01)"
   ]
  },
  {
   "cell_type": "code",
   "execution_count": 181,
   "id": "4feec939-5fd9-43cf-9327-ab3f8857e342",
   "metadata": {},
   "outputs": [
    {
     "data": {
      "text/plain": [
       "<matplotlib.collections.PathCollection at 0x1dddf16ae48>"
      ]
     },
     "execution_count": 181,
     "metadata": {},
     "output_type": "execute_result"
    },
    {
     "data": {
      "image/png": "[encoded data removed]",
      "text/plain": [
       "<Figure size 432x288 with 1 Axes>"
      ]
     },
     "metadata": {
      "needs_background": "light"
     },
     "output_type": "display_data"
    }
   ],
   "source": [
    "alphas = [0.1, 0.2, 0.3]\n",
    "reg = linear_model.RidgeCV(alphas=alphas)\n",
    "\n",
    "sub_df = mlb_df[['G', 'AB', 'R', 'BB']]\n",
    "y = mlb_df[['HR']]\n",
    "reg.fit(sub_df, y)\n",
    "pred_y = reg.predict(np.array(sub_df))\n",
    "pca = PCA(1).fit_transform(sub_df)\n",
    "\n",
    "plt.scatter(pca, pred_y, alpha=0.01)\n",
    "plt.scatter(pca, y, alpha=0.01)"
   ]
  },
  {
   "cell_type": "code",
   "execution_count": 196,
   "id": "32b738fc-fde7-4e9e-a58d-640c256edc8d",
   "metadata": {},
   "outputs": [
    {
     "data": {
      "text/plain": [
       "DecisionTreeClassifier()"
      ]
     },
     "execution_count": 196,
     "metadata": {},
     "output_type": "execute_result"
    }
   ],
   "source": [
    "from sklearn.tree import DecisionTreeClassifier\n",
    "from sklearn.model_selection import train_test_split\n",
    "\n",
    "train_x, test_x, train_y, test_y = train_test_split(sub_df, labels)\n",
    "\n",
    "clf = DecisionTreeClassifier()\n",
    "clf.fit(train_x, train_y)"
   ]
  },
  {
   "cell_type": "code",
   "execution_count": 202,
   "id": "647ac509-5b8e-4797-a48b-e354d830d910",
   "metadata": {},
   "outputs": [],
   "source": [
    "pred_y = clf.predict(test_x)"
   ]
  },
  {
   "cell_type": "code",
   "execution_count": 211,
   "id": "39118841-4a38-458f-bb98-0812db847112",
   "metadata": {},
   "outputs": [
    {
     "data": {
      "text/plain": [
       "array([0.72171155, 0.791479  , 0.84111591, 0.86340656, 0.86487108])"
      ]
     },
     "execution_count": 211,
     "metadata": {},
     "output_type": "execute_result"
    }
   ],
   "source": [
    "cross_val_score(clf, sub_df, labels)"
   ]
  },
  {
   "cell_type": "code",
   "execution_count": 214,
   "id": "1f1967e5-2d4c-4f96-be6b-4fb8bf076ca3",
   "metadata": {},
   "outputs": [
    {
     "name": "stdout",
     "output_type": "stream",
     "text": [
      "95% C.I. for depth 3: -0.37661777197345514 +/- 3.89\n",
      "\n",
      "95% C.I. for depth 4: -0.3442370121766863 +/- 3.83\n",
      "\n",
      "95% C.I. for depth 5: -0.34061636306955323 +/- 3.87\n",
      "\n",
      "95% C.I. for depth 6: -0.32973568368739903 +/- 3.85\n",
      "\n",
      "95% C.I. for depth 7: -0.2956612854590501 +/- 3.74\n",
      "\n"
     ]
    }
   ],
   "source": [
    "from sklearn.tree import DecisionTreeClassifier\n",
    "from sklearn.tree import DecisionTreeRegressor\n",
    "from sklearn.model_selection import cross_val_score\n",
    "\n",
    "def cv_decision_tree(is_clf, data, labels, max_depth, cv):\n",
    "    if is_clf:\n",
    "        d_tree = DecisionTreeClassifier(max_depth=max_depth)\n",
    "    else:\n",
    "        d_tree = DecisionTreeRegressor(max_depth=max_depth)\n",
    "        \n",
    "    scores = cross_val_score(d_tree, data, labels, cv=cv)\n",
    "    return scores\n",
    "        \n",
    "is_clf = False\n",
    "for depth in range(3, 8):\n",
    "    # scores = cv_decision_tree(is_clf, sub_df, labels, depth, 5)\n",
    "    scores = cv_decision_tree(is_clf, sub_df, y, depth, 5)\n",
    "    mean = scores.mean()\n",
    "    std_2 = 2 * scores.std()\n",
    "    print('95% C.I. for depth {}: {} +/- {:.2f}\\n'.format(depth, mean, std_2))"
   ]
  }
 ],
 "metadata": {
  "kernelspec": {
   "display_name": "Python 3 (ipykernel)",
   "language": "python",
   "name": "python3"
  },
  "language_info": {
   "codemirror_mode": {
    "name": "ipython",
    "version": 3
   },
   "file_extension": ".py",
   "mimetype": "text/x-python",
   "name": "python",
   "nbconvert_exporter": "python",
   "pygments_lexer": "ipython3",
   "version": "3.7.10"
  }
 },
 "nbformat": 4,
 "nbformat_minor": 5
}
